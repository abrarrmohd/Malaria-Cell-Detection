{
 "cells": [
  {
   "cell_type": "code",
   "execution_count": 1,
   "metadata": {
    "_cell_guid": "b1076dfc-b9ad-4769-8c92-a6c4dae69d19",
    "_uuid": "8f2839f25d086af736a60e9eeb907d3b93b6e0e5"
   },
   "outputs": [
    {
     "name": "stdout",
     "output_type": "stream",
     "text": [
      "['cell_images']\n"
     ]
    }
   ],
   "source": [
    "# This Python 3 environment comes with many helpful analytics libraries installed\n",
    "# It is defined by the kaggle/python docker image: https://github.com/kaggle/docker-python\n",
    "# For example, here's several helpful packages to load in \n",
    "\n",
    "import numpy as np # linear algebra\n",
    "import pandas as pd # data processing, CSV file I/O (e.g. pd.read_csv)\n",
    "\n",
    "# Input data files are available in the \"../input/\" directory.\n",
    "# For example, running this (by clicking run or pressing Shift+Enter) will list the files in the input directory\n",
    "\n",
    "import os\n",
    "print(os.listdir(\"../input\"))\n",
    "\n",
    "# Any results you write to the current directory are saved as output."
   ]
  },
  {
   "cell_type": "code",
   "execution_count": 2,
   "metadata": {
    "_cell_guid": "79c7e3d0-c299-4dcb-8224-4455121ee9b0",
    "_uuid": "d629ff2d2480ee46fbb7e2d37f6b5fab8052498a"
   },
   "outputs": [
    {
     "name": "stderr",
     "output_type": "stream",
     "text": [
      "Using TensorFlow backend.\n"
     ]
    }
   ],
   "source": [
    "import keras\n",
    "from keras.utils import np_utils\n",
    "from keras.models import Sequential\n",
    "from keras.layers import Conv2D,MaxPooling2D,Dense,Flatten,Dropout\n",
    "from PIL import Image\n",
    "import cv2"
   ]
  },
  {
   "cell_type": "code",
   "execution_count": 3,
   "metadata": {
    "_uuid": "460fed72f94c25b2b8a97355da503dee59ab0eed"
   },
   "outputs": [],
   "source": [
    "img=[]\n",
    "labels=[]"
   ]
  },
  {
   "cell_type": "code",
   "execution_count": 4,
   "metadata": {
    "_uuid": "46fb921b5e4a7d3e49ab6ba6dc0931b7b16aa9d2"
   },
   "outputs": [
    {
     "name": "stdout",
     "output_type": "stream",
     "text": [
      "\n"
     ]
    }
   ],
   "source": [
    "Parasitized=os.listdir(\"../input/cell_images/cell_images/Parasitized/\")\n",
    "for a in Parasitized:\n",
    "    try:\n",
    "        image=cv2.imread(\"../input/cell_images/cell_images/Parasitized/\"+a)\n",
    "        image_from_array = Image.fromarray(image, 'RGB')\n",
    "        size_image = image_from_array.resize((50, 50))\n",
    "        img.append(np.array(size_image))\n",
    "        labels.append(0)\n",
    "    except AttributeError:\n",
    "        print(\"\")\n",
    "\n"
   ]
  },
  {
   "cell_type": "code",
   "execution_count": 5,
   "metadata": {
    "_uuid": "c2858ccf8e7048af1462453185776a266468154a"
   },
   "outputs": [
    {
     "name": "stdout",
     "output_type": "stream",
     "text": [
      "\n"
     ]
    }
   ],
   "source": [
    "Uninfected=os.listdir(\"../input/cell_images/cell_images/Uninfected/\")\n",
    "for b in Uninfected:\n",
    "    try:\n",
    "        image=cv2.imread(\"../input/cell_images/cell_images/Uninfected/\"+b)\n",
    "        image_from_array = Image.fromarray(image, 'RGB')\n",
    "        size_image = image_from_array.resize((50, 50))\n",
    "        img.append(np.array(size_image))\n",
    "        labels.append(1)\n",
    "    except AttributeError:\n",
    "        print(\"\")"
   ]
  },
  {
   "cell_type": "code",
   "execution_count": 6,
   "metadata": {
    "_uuid": "978fd02dae699f5b167f147ba99d660434f18a36"
   },
   "outputs": [
    {
     "data": {
      "text/plain": [
       "27558"
      ]
     },
     "execution_count": 6,
     "metadata": {},
     "output_type": "execute_result"
    }
   ],
   "source": [
    "len(img)"
   ]
  },
  {
   "cell_type": "code",
   "execution_count": 7,
   "metadata": {
    "_uuid": "56f422ed6e2cd0adb4ac7673ea2c303749714b34"
   },
   "outputs": [
    {
     "data": {
      "text/plain": [
       "27558"
      ]
     },
     "execution_count": 7,
     "metadata": {},
     "output_type": "execute_result"
    }
   ],
   "source": [
    "len(labels)"
   ]
  },
  {
   "cell_type": "code",
   "execution_count": 8,
   "metadata": {
    "_uuid": "85c71a987eb2cf0f5471c6ce547218e9d89afb13"
   },
   "outputs": [],
   "source": [
    "img=np.array(img)\n",
    "labels=np.array(labels)"
   ]
  },
  {
   "cell_type": "code",
   "execution_count": 9,
   "metadata": {
    "_uuid": "e719412fb34181bca68e35e3208fe36355860d43"
   },
   "outputs": [
    {
     "data": {
      "text/plain": [
       "(27558, 50, 50, 3)"
      ]
     },
     "execution_count": 9,
     "metadata": {},
     "output_type": "execute_result"
    }
   ],
   "source": [
    "img.shape"
   ]
  },
  {
   "cell_type": "code",
   "execution_count": 10,
   "metadata": {
    "_uuid": "2e743b25e4b06128337fb662ce363cb0cdbb8ec1"
   },
   "outputs": [],
   "source": [
    "len_data=len(img)"
   ]
  },
  {
   "cell_type": "code",
   "execution_count": 11,
   "metadata": {
    "_uuid": "d3574349f4fdf6bfd7eb6a1a93bf98ef16078263"
   },
   "outputs": [],
   "source": [
    "s=np.arange(img.shape[0])\n",
    "np.random.shuffle(s)\n",
    "img=img[s]\n",
    "labels=labels[s]"
   ]
  },
  {
   "cell_type": "code",
   "execution_count": 12,
   "metadata": {
    "_uuid": "8553e9b27785e5a56ea98748ef2c72c69d8b3cb1"
   },
   "outputs": [],
   "source": [
    "(x_train,x_test)=img[(int)(0.1*len_data):],img[:(int)(0.1*len_data)]\n",
    "x_train = x_train.astype('float32')/255 \n",
    "x_test = x_test.astype('float32')/255\n",
    "(y_train,y_test)=labels[(int)(0.1*len_data):],labels[:(int)(0.1*len_data)]"
   ]
  },
  {
   "cell_type": "code",
   "execution_count": 13,
   "metadata": {
    "_uuid": "55c6e01c6b103cb46eb0a39b330e0ef23044a0ee"
   },
   "outputs": [],
   "source": [
    "y_train=np_utils.to_categorical(y_train)"
   ]
  },
  {
   "cell_type": "code",
   "execution_count": 14,
   "metadata": {
    "_uuid": "9265e6a2a6ed1441827979bd1269fbd5c1ed6b35"
   },
   "outputs": [
    {
     "data": {
      "text/plain": [
       "array([[0., 1.],\n",
       "       [0., 1.],\n",
       "       [0., 1.],\n",
       "       ...,\n",
       "       [0., 1.],\n",
       "       [0., 1.],\n",
       "       [0., 1.]], dtype=float32)"
      ]
     },
     "execution_count": 14,
     "metadata": {},
     "output_type": "execute_result"
    }
   ],
   "source": [
    "y_train"
   ]
  },
  {
   "cell_type": "code",
   "execution_count": 15,
   "metadata": {
    "_uuid": "3b2deaea9a54ed09cecdadfc658762f9426edd04"
   },
   "outputs": [],
   "source": [
    "y_test=np_utils.to_categorical(y_test)"
   ]
  },
  {
   "cell_type": "code",
   "execution_count": 16,
   "metadata": {
    "_uuid": "ebfa324dde8bf352e00abdb1400ec57dc659e523"
   },
   "outputs": [
    {
     "name": "stdout",
     "output_type": "stream",
     "text": [
      "_________________________________________________________________\n",
      "Layer (type)                 Output Shape              Param #   \n",
      "=================================================================\n",
      "conv2d_1 (Conv2D)            (None, 50, 50, 16)        208       \n",
      "_________________________________________________________________\n",
      "max_pooling2d_1 (MaxPooling2 (None, 25, 25, 16)        0         \n",
      "_________________________________________________________________\n",
      "conv2d_2 (Conv2D)            (None, 25, 25, 32)        2080      \n",
      "_________________________________________________________________\n",
      "max_pooling2d_2 (MaxPooling2 (None, 12, 12, 32)        0         \n",
      "_________________________________________________________________\n",
      "conv2d_3 (Conv2D)            (None, 12, 12, 64)        8256      \n",
      "_________________________________________________________________\n",
      "max_pooling2d_3 (MaxPooling2 (None, 6, 6, 64)          0         \n",
      "_________________________________________________________________\n",
      "dropout_1 (Dropout)          (None, 6, 6, 64)          0         \n",
      "_________________________________________________________________\n",
      "flatten_1 (Flatten)          (None, 2304)              0         \n",
      "_________________________________________________________________\n",
      "dense_1 (Dense)              (None, 500)               1152500   \n",
      "_________________________________________________________________\n",
      "dropout_2 (Dropout)          (None, 500)               0         \n",
      "_________________________________________________________________\n",
      "dense_2 (Dense)              (None, 250)               125250    \n",
      "_________________________________________________________________\n",
      "dropout_3 (Dropout)          (None, 250)               0         \n",
      "_________________________________________________________________\n",
      "dense_3 (Dense)              (None, 2)                 502       \n",
      "=================================================================\n",
      "Total params: 1,288,796\n",
      "Trainable params: 1,288,796\n",
      "Non-trainable params: 0\n",
      "_________________________________________________________________\n"
     ]
    }
   ],
   "source": [
    "model=Sequential()\n",
    "model.add(Conv2D(filters=16,kernel_size=2,padding=\"same\",activation=\"relu\",input_shape=(50,50,3)))\n",
    "model.add(MaxPooling2D(pool_size=2))\n",
    "model.add(Conv2D(filters=32,kernel_size=2,padding=\"same\",activation=\"relu\"))\n",
    "model.add(MaxPooling2D(pool_size=2))\n",
    "model.add(Conv2D(filters=64,kernel_size=2,padding=\"same\",activation=\"relu\"))\n",
    "model.add(MaxPooling2D(pool_size=2))\n",
    "model.add(Dropout(0.2))\n",
    "model.add(Flatten())\n",
    "model.add(Dense(500,activation=\"relu\"))\n",
    "model.add(Dropout(0.2))\n",
    "model.add(Dense(250,activation=\"relu\"))\n",
    "model.add(Dropout(0.2))\n",
    "model.add(Dense(2,activation=\"softmax\"))#2 represent output layer neurons \n",
    "model.summary()"
   ]
  },
  {
   "cell_type": "code",
   "execution_count": 17,
   "metadata": {
    "_uuid": "e46126cb043a3840521af3dae263896d85895297"
   },
   "outputs": [],
   "source": [
    "model.compile(loss='categorical_crossentropy', optimizer='adam', metrics=['accuracy'])"
   ]
  },
  {
   "cell_type": "code",
   "execution_count": 18,
   "metadata": {
    "_uuid": "03c3bf2ecdd7fbb51d82f8ebcafd1987ccc38b88"
   },
   "outputs": [
    {
     "name": "stdout",
     "output_type": "stream",
     "text": [
      "Train on 22322 samples, validate on 2481 samples\n",
      "Epoch 1/30\n",
      "22322/22322 [==============================] - 7s 314us/step - loss: 0.3607 - acc: 0.8318 - val_loss: 0.1756 - val_acc: 0.9440\n",
      "Epoch 2/30\n",
      "22322/22322 [==============================] - 3s 119us/step - loss: 0.1649 - acc: 0.9475 - val_loss: 0.1578 - val_acc: 0.9480\n",
      "Epoch 3/30\n",
      "22322/22322 [==============================] - 3s 120us/step - loss: 0.1460 - acc: 0.9526 - val_loss: 0.1440 - val_acc: 0.9528\n",
      "Epoch 4/30\n",
      "22322/22322 [==============================] - 3s 119us/step - loss: 0.1340 - acc: 0.9549 - val_loss: 0.1499 - val_acc: 0.9549\n",
      "Epoch 5/30\n",
      "22322/22322 [==============================] - 3s 123us/step - loss: 0.1268 - acc: 0.9582 - val_loss: 0.1325 - val_acc: 0.9565\n",
      "Epoch 6/30\n",
      "22322/22322 [==============================] - 3s 120us/step - loss: 0.1167 - acc: 0.9603 - val_loss: 0.1297 - val_acc: 0.9585\n",
      "Epoch 7/30\n",
      "22322/22322 [==============================] - 3s 121us/step - loss: 0.1090 - acc: 0.9619 - val_loss: 0.1185 - val_acc: 0.9605\n",
      "Epoch 8/30\n",
      "22322/22322 [==============================] - 3s 119us/step - loss: 0.1013 - acc: 0.9643 - val_loss: 0.1220 - val_acc: 0.9561\n",
      "Epoch 9/30\n",
      "22322/22322 [==============================] - 3s 122us/step - loss: 0.0926 - acc: 0.9671 - val_loss: 0.1329 - val_acc: 0.9597\n",
      "Epoch 10/30\n",
      "22322/22322 [==============================] - 3s 130us/step - loss: 0.0815 - acc: 0.9714 - val_loss: 0.1219 - val_acc: 0.9577\n",
      "Epoch 11/30\n",
      "22322/22322 [==============================] - 3s 130us/step - loss: 0.0720 - acc: 0.9749 - val_loss: 0.1678 - val_acc: 0.9492\n",
      "Epoch 12/30\n",
      "22322/22322 [==============================] - 3s 132us/step - loss: 0.0653 - acc: 0.9772 - val_loss: 0.1321 - val_acc: 0.9585\n",
      "Epoch 13/30\n",
      "22322/22322 [==============================] - 3s 122us/step - loss: 0.0551 - acc: 0.9800 - val_loss: 0.1335 - val_acc: 0.9565\n",
      "Epoch 14/30\n",
      "22322/22322 [==============================] - 3s 120us/step - loss: 0.0462 - acc: 0.9839 - val_loss: 0.1843 - val_acc: 0.9577\n",
      "Epoch 15/30\n",
      "22322/22322 [==============================] - 3s 121us/step - loss: 0.0390 - acc: 0.9866 - val_loss: 0.1950 - val_acc: 0.9593\n",
      "Epoch 16/30\n",
      "22322/22322 [==============================] - 3s 121us/step - loss: 0.0377 - acc: 0.9870 - val_loss: 0.2069 - val_acc: 0.9545\n",
      "Epoch 17/30\n",
      "22322/22322 [==============================] - 3s 121us/step - loss: 0.0324 - acc: 0.9884 - val_loss: 0.1759 - val_acc: 0.9488\n",
      "Epoch 18/30\n",
      "22322/22322 [==============================] - 3s 120us/step - loss: 0.0309 - acc: 0.9889 - val_loss: 0.2179 - val_acc: 0.9553\n",
      "Epoch 19/30\n",
      "22322/22322 [==============================] - 3s 120us/step - loss: 0.0283 - acc: 0.9898 - val_loss: 0.2000 - val_acc: 0.9532\n",
      "Epoch 20/30\n",
      "22322/22322 [==============================] - 3s 120us/step - loss: 0.0233 - acc: 0.9920 - val_loss: 0.2289 - val_acc: 0.9553\n",
      "Epoch 21/30\n",
      "22322/22322 [==============================] - 3s 119us/step - loss: 0.0233 - acc: 0.9923 - val_loss: 0.2341 - val_acc: 0.9585\n",
      "Epoch 22/30\n",
      "22322/22322 [==============================] - 3s 120us/step - loss: 0.0213 - acc: 0.9920 - val_loss: 0.2244 - val_acc: 0.9557\n",
      "Epoch 23/30\n",
      "22322/22322 [==============================] - 3s 120us/step - loss: 0.0232 - acc: 0.9922 - val_loss: 0.2371 - val_acc: 0.9573\n",
      "Epoch 24/30\n",
      "22322/22322 [==============================] - 3s 119us/step - loss: 0.0198 - acc: 0.9935 - val_loss: 0.2385 - val_acc: 0.9545\n",
      "Epoch 25/30\n",
      "22322/22322 [==============================] - 3s 119us/step - loss: 0.0158 - acc: 0.9952 - val_loss: 0.2372 - val_acc: 0.9573\n",
      "Epoch 26/30\n",
      "22322/22322 [==============================] - 3s 120us/step - loss: 0.0147 - acc: 0.9957 - val_loss: 0.2728 - val_acc: 0.9561\n",
      "Epoch 27/30\n",
      "22322/22322 [==============================] - 3s 119us/step - loss: 0.0193 - acc: 0.9939 - val_loss: 0.2411 - val_acc: 0.9557\n",
      "Epoch 28/30\n",
      "22322/22322 [==============================] - 3s 119us/step - loss: 0.0165 - acc: 0.9944 - val_loss: 0.2479 - val_acc: 0.9573\n",
      "Epoch 29/30\n",
      "22322/22322 [==============================] - 3s 120us/step - loss: 0.0156 - acc: 0.9945 - val_loss: 0.3036 - val_acc: 0.9545\n",
      "Epoch 30/30\n",
      "22322/22322 [==============================] - 3s 120us/step - loss: 0.0096 - acc: 0.9968 - val_loss: 0.3190 - val_acc: 0.9565\n"
     ]
    },
    {
     "data": {
      "text/plain": [
       "<keras.callbacks.History at 0x7fa528eb8ba8>"
      ]
     },
     "execution_count": 18,
     "metadata": {},
     "output_type": "execute_result"
    }
   ],
   "source": [
    "model.fit(x_train,y_train,batch_size=50,epochs=30,verbose=1,validation_split=0.1)"
   ]
  },
  {
   "cell_type": "code",
   "execution_count": 19,
   "metadata": {
    "_uuid": "78e870784ea96d96a8974e7fb3c8ebbedb29fb21"
   },
   "outputs": [],
   "source": [
    "pred=model.predict(x_test)"
   ]
  },
  {
   "cell_type": "code",
   "execution_count": 20,
   "metadata": {
    "_uuid": "8a7281e098ac3804378768a7e6a231cbd2ab5582"
   },
   "outputs": [
    {
     "data": {
      "text/plain": [
       "array([[7.6832030e-06, 9.9999237e-01],\n",
       "       [2.9860377e-07, 9.9999964e-01],\n",
       "       [1.0000000e+00, 9.7492780e-26],\n",
       "       ...,\n",
       "       [3.4082543e-06, 9.9999654e-01],\n",
       "       [2.7527697e-06, 9.9999726e-01],\n",
       "       [1.0000000e+00, 8.8041593e-30]], dtype=float32)"
      ]
     },
     "execution_count": 20,
     "metadata": {},
     "output_type": "execute_result"
    }
   ],
   "source": [
    "pred"
   ]
  },
  {
   "cell_type": "code",
   "execution_count": 21,
   "metadata": {
    "_uuid": "ee1e4e9f561cc9f2ed01985b6bfec5ecdff3b9c2"
   },
   "outputs": [],
   "source": [
    "pred=np.argmax(pred,axis=1)"
   ]
  },
  {
   "cell_type": "code",
   "execution_count": 22,
   "metadata": {
    "_uuid": "7d9253da87095513c6ed07b720f4f829485e19bf"
   },
   "outputs": [],
   "source": [
    "pred=np_utils.to_categorical(pred)"
   ]
  },
  {
   "cell_type": "code",
   "execution_count": 23,
   "metadata": {
    "_uuid": "3873b8876476c5879b95bd502babaa16c01379ec"
   },
   "outputs": [
    {
     "data": {
      "text/plain": [
       "array([[0., 1.],\n",
       "       [0., 1.],\n",
       "       [1., 0.],\n",
       "       ...,\n",
       "       [0., 1.],\n",
       "       [0., 1.],\n",
       "       [1., 0.]], dtype=float32)"
      ]
     },
     "execution_count": 23,
     "metadata": {},
     "output_type": "execute_result"
    }
   ],
   "source": [
    "pred"
   ]
  },
  {
   "cell_type": "code",
   "execution_count": 24,
   "metadata": {
    "_uuid": "c96934b2d54945c3eb15e145dbc3cd6e793e40b0"
   },
   "outputs": [
    {
     "data": {
      "text/plain": [
       "array([[0., 1.],\n",
       "       [0., 1.],\n",
       "       [1., 0.],\n",
       "       ...,\n",
       "       [0., 1.],\n",
       "       [1., 0.],\n",
       "       [1., 0.]], dtype=float32)"
      ]
     },
     "execution_count": 24,
     "metadata": {},
     "output_type": "execute_result"
    }
   ],
   "source": [
    "y_test"
   ]
  },
  {
   "cell_type": "code",
   "execution_count": 25,
   "metadata": {
    "_uuid": "3f882309edc66289dc382199f2d69a4d0f96936e"
   },
   "outputs": [
    {
     "data": {
      "text/plain": [
       "0.9549909255898367"
      ]
     },
     "execution_count": 25,
     "metadata": {},
     "output_type": "execute_result"
    }
   ],
   "source": [
    "from sklearn.metrics import accuracy_score\n",
    "accuracy_score(y_test, pred)"
   ]
  }
 ],
 "metadata": {
  "kernelspec": {
   "display_name": "Python 3",
   "language": "python",
   "name": "python3"
  },
  "language_info": {
   "codemirror_mode": {
    "name": "ipython",
    "version": 3
   },
   "file_extension": ".py",
   "mimetype": "text/x-python",
   "name": "python",
   "nbconvert_exporter": "python",
   "pygments_lexer": "ipython3",
   "version": "3.6.6"
  }
 },
 "nbformat": 4,
 "nbformat_minor": 1
}
